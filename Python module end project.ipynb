{
 "cells": [
  {
   "cell_type": "code",
   "execution_count": 21,
   "id": "648f3964-24fd-48df-8969-c5043288a74f",
   "metadata": {},
   "outputs": [],
   "source": [
    "import seaborn as sns\n",
    "import numpy as np\n",
    "import pandas as pd\n",
    "import matplotlib.pyplot as plt"
   ]
  },
  {
   "cell_type": "markdown",
   "id": "d9712d76-38cf-469a-b7a5-13b1f566b6d7",
   "metadata": {},
   "source": [
    "# PREPROCESSING THE DATA¶"
   ]
  },
  {
   "cell_type": "markdown",
   "id": "0e076d44-8e79-4a82-acf4-5682ec8334dc",
   "metadata": {},
   "source": [
    "### Step 1. Load the data"
   ]
  },
  {
   "cell_type": "code",
   "execution_count": 22,
   "id": "280cb7fa-0c5c-489c-bb48-839dbef5d5ad",
   "metadata": {},
   "outputs": [
    {
     "data": {
      "text/html": [
       "<div>\n",
       "<style scoped>\n",
       "    .dataframe tbody tr th:only-of-type {\n",
       "        vertical-align: middle;\n",
       "    }\n",
       "\n",
       "    .dataframe tbody tr th {\n",
       "        vertical-align: top;\n",
       "    }\n",
       "\n",
       "    .dataframe thead th {\n",
       "        text-align: right;\n",
       "    }\n",
       "</style>\n",
       "<table border=\"1\" class=\"dataframe\">\n",
       "  <thead>\n",
       "    <tr style=\"text-align: right;\">\n",
       "      <th></th>\n",
       "      <th>Name</th>\n",
       "      <th>Team</th>\n",
       "      <th>Number</th>\n",
       "      <th>Position</th>\n",
       "      <th>Age</th>\n",
       "      <th>Height</th>\n",
       "      <th>Weight</th>\n",
       "      <th>College</th>\n",
       "      <th>Salary</th>\n",
       "    </tr>\n",
       "  </thead>\n",
       "  <tbody>\n",
       "    <tr>\n",
       "      <th>0</th>\n",
       "      <td>Avery Bradley</td>\n",
       "      <td>Boston Celtics</td>\n",
       "      <td>0</td>\n",
       "      <td>PG</td>\n",
       "      <td>25</td>\n",
       "      <td>06-Feb</td>\n",
       "      <td>180</td>\n",
       "      <td>Texas</td>\n",
       "      <td>7730337.0</td>\n",
       "    </tr>\n",
       "    <tr>\n",
       "      <th>1</th>\n",
       "      <td>Jae Crowder</td>\n",
       "      <td>Boston Celtics</td>\n",
       "      <td>99</td>\n",
       "      <td>SF</td>\n",
       "      <td>25</td>\n",
       "      <td>06-Jun</td>\n",
       "      <td>235</td>\n",
       "      <td>Marquette</td>\n",
       "      <td>6796117.0</td>\n",
       "    </tr>\n",
       "    <tr>\n",
       "      <th>2</th>\n",
       "      <td>John Holland</td>\n",
       "      <td>Boston Celtics</td>\n",
       "      <td>30</td>\n",
       "      <td>SG</td>\n",
       "      <td>27</td>\n",
       "      <td>06-May</td>\n",
       "      <td>205</td>\n",
       "      <td>Boston University</td>\n",
       "      <td>NaN</td>\n",
       "    </tr>\n",
       "    <tr>\n",
       "      <th>3</th>\n",
       "      <td>R.J. Hunter</td>\n",
       "      <td>Boston Celtics</td>\n",
       "      <td>28</td>\n",
       "      <td>SG</td>\n",
       "      <td>22</td>\n",
       "      <td>06-May</td>\n",
       "      <td>185</td>\n",
       "      <td>Georgia State</td>\n",
       "      <td>1148640.0</td>\n",
       "    </tr>\n",
       "    <tr>\n",
       "      <th>4</th>\n",
       "      <td>Jonas Jerebko</td>\n",
       "      <td>Boston Celtics</td>\n",
       "      <td>8</td>\n",
       "      <td>PF</td>\n",
       "      <td>29</td>\n",
       "      <td>06-Oct</td>\n",
       "      <td>231</td>\n",
       "      <td>NaN</td>\n",
       "      <td>5000000.0</td>\n",
       "    </tr>\n",
       "    <tr>\n",
       "      <th>...</th>\n",
       "      <td>...</td>\n",
       "      <td>...</td>\n",
       "      <td>...</td>\n",
       "      <td>...</td>\n",
       "      <td>...</td>\n",
       "      <td>...</td>\n",
       "      <td>...</td>\n",
       "      <td>...</td>\n",
       "      <td>...</td>\n",
       "    </tr>\n",
       "    <tr>\n",
       "      <th>453</th>\n",
       "      <td>Shelvin Mack</td>\n",
       "      <td>Utah Jazz</td>\n",
       "      <td>8</td>\n",
       "      <td>PG</td>\n",
       "      <td>26</td>\n",
       "      <td>06-Mar</td>\n",
       "      <td>203</td>\n",
       "      <td>Butler</td>\n",
       "      <td>2433333.0</td>\n",
       "    </tr>\n",
       "    <tr>\n",
       "      <th>454</th>\n",
       "      <td>Raul Neto</td>\n",
       "      <td>Utah Jazz</td>\n",
       "      <td>25</td>\n",
       "      <td>PG</td>\n",
       "      <td>24</td>\n",
       "      <td>06-Jan</td>\n",
       "      <td>179</td>\n",
       "      <td>NaN</td>\n",
       "      <td>900000.0</td>\n",
       "    </tr>\n",
       "    <tr>\n",
       "      <th>455</th>\n",
       "      <td>Tibor Pleiss</td>\n",
       "      <td>Utah Jazz</td>\n",
       "      <td>21</td>\n",
       "      <td>C</td>\n",
       "      <td>26</td>\n",
       "      <td>07-Mar</td>\n",
       "      <td>256</td>\n",
       "      <td>NaN</td>\n",
       "      <td>2900000.0</td>\n",
       "    </tr>\n",
       "    <tr>\n",
       "      <th>456</th>\n",
       "      <td>Jeff Withey</td>\n",
       "      <td>Utah Jazz</td>\n",
       "      <td>24</td>\n",
       "      <td>C</td>\n",
       "      <td>26</td>\n",
       "      <td>7-0</td>\n",
       "      <td>231</td>\n",
       "      <td>Kansas</td>\n",
       "      <td>947276.0</td>\n",
       "    </tr>\n",
       "    <tr>\n",
       "      <th>457</th>\n",
       "      <td>Priyanka</td>\n",
       "      <td>Utah Jazz</td>\n",
       "      <td>34</td>\n",
       "      <td>C</td>\n",
       "      <td>25</td>\n",
       "      <td>07-Mar</td>\n",
       "      <td>231</td>\n",
       "      <td>Kansas</td>\n",
       "      <td>947276.0</td>\n",
       "    </tr>\n",
       "  </tbody>\n",
       "</table>\n",
       "<p>458 rows × 9 columns</p>\n",
       "</div>"
      ],
      "text/plain": [
       "              Name            Team  Number Position  Age  Height  Weight  \\\n",
       "0    Avery Bradley  Boston Celtics       0       PG   25  06-Feb     180   \n",
       "1      Jae Crowder  Boston Celtics      99       SF   25  06-Jun     235   \n",
       "2     John Holland  Boston Celtics      30       SG   27  06-May     205   \n",
       "3      R.J. Hunter  Boston Celtics      28       SG   22  06-May     185   \n",
       "4    Jonas Jerebko  Boston Celtics       8       PF   29  06-Oct     231   \n",
       "..             ...             ...     ...      ...  ...     ...     ...   \n",
       "453   Shelvin Mack       Utah Jazz       8       PG   26  06-Mar     203   \n",
       "454      Raul Neto       Utah Jazz      25       PG   24  06-Jan     179   \n",
       "455   Tibor Pleiss       Utah Jazz      21        C   26  07-Mar     256   \n",
       "456    Jeff Withey       Utah Jazz      24        C   26     7-0     231   \n",
       "457       Priyanka       Utah Jazz      34        C   25  07-Mar     231   \n",
       "\n",
       "               College     Salary  \n",
       "0                Texas  7730337.0  \n",
       "1            Marquette  6796117.0  \n",
       "2    Boston University        NaN  \n",
       "3        Georgia State  1148640.0  \n",
       "4                  NaN  5000000.0  \n",
       "..                 ...        ...  \n",
       "453             Butler  2433333.0  \n",
       "454                NaN   900000.0  \n",
       "455                NaN  2900000.0  \n",
       "456             Kansas   947276.0  \n",
       "457             Kansas   947276.0  \n",
       "\n",
       "[458 rows x 9 columns]"
      ]
     },
     "execution_count": 22,
     "metadata": {},
     "output_type": "execute_result"
    }
   ],
   "source": [
    "edf = pd.read_csv('myexcel - myexcel.csv.csv')\n",
    "edf"
   ]
  },
  {
   "cell_type": "code",
   "execution_count": 3,
   "id": "fdc71758-256c-42f5-9ecd-4d5c6c358ba1",
   "metadata": {},
   "outputs": [
    {
     "data": {
      "text/html": [
       "<div>\n",
       "<style scoped>\n",
       "    .dataframe tbody tr th:only-of-type {\n",
       "        vertical-align: middle;\n",
       "    }\n",
       "\n",
       "    .dataframe tbody tr th {\n",
       "        vertical-align: top;\n",
       "    }\n",
       "\n",
       "    .dataframe thead th {\n",
       "        text-align: right;\n",
       "    }\n",
       "</style>\n",
       "<table border=\"1\" class=\"dataframe\">\n",
       "  <thead>\n",
       "    <tr style=\"text-align: right;\">\n",
       "      <th></th>\n",
       "      <th>Name</th>\n",
       "      <th>Team</th>\n",
       "      <th>Number</th>\n",
       "      <th>Position</th>\n",
       "      <th>Age</th>\n",
       "      <th>Height</th>\n",
       "      <th>Weight</th>\n",
       "      <th>College</th>\n",
       "      <th>Salary</th>\n",
       "    </tr>\n",
       "  </thead>\n",
       "  <tbody>\n",
       "    <tr>\n",
       "      <th>0</th>\n",
       "      <td>Avery Bradley</td>\n",
       "      <td>Boston Celtics</td>\n",
       "      <td>0</td>\n",
       "      <td>PG</td>\n",
       "      <td>25</td>\n",
       "      <td>06-Feb</td>\n",
       "      <td>180</td>\n",
       "      <td>Texas</td>\n",
       "      <td>7730337.0</td>\n",
       "    </tr>\n",
       "    <tr>\n",
       "      <th>1</th>\n",
       "      <td>Jae Crowder</td>\n",
       "      <td>Boston Celtics</td>\n",
       "      <td>99</td>\n",
       "      <td>SF</td>\n",
       "      <td>25</td>\n",
       "      <td>06-Jun</td>\n",
       "      <td>235</td>\n",
       "      <td>Marquette</td>\n",
       "      <td>6796117.0</td>\n",
       "    </tr>\n",
       "    <tr>\n",
       "      <th>2</th>\n",
       "      <td>John Holland</td>\n",
       "      <td>Boston Celtics</td>\n",
       "      <td>30</td>\n",
       "      <td>SG</td>\n",
       "      <td>27</td>\n",
       "      <td>06-May</td>\n",
       "      <td>205</td>\n",
       "      <td>Boston University</td>\n",
       "      <td>NaN</td>\n",
       "    </tr>\n",
       "    <tr>\n",
       "      <th>3</th>\n",
       "      <td>R.J. Hunter</td>\n",
       "      <td>Boston Celtics</td>\n",
       "      <td>28</td>\n",
       "      <td>SG</td>\n",
       "      <td>22</td>\n",
       "      <td>06-May</td>\n",
       "      <td>185</td>\n",
       "      <td>Georgia State</td>\n",
       "      <td>1148640.0</td>\n",
       "    </tr>\n",
       "    <tr>\n",
       "      <th>4</th>\n",
       "      <td>Jonas Jerebko</td>\n",
       "      <td>Boston Celtics</td>\n",
       "      <td>8</td>\n",
       "      <td>PF</td>\n",
       "      <td>29</td>\n",
       "      <td>06-Oct</td>\n",
       "      <td>231</td>\n",
       "      <td>NaN</td>\n",
       "      <td>5000000.0</td>\n",
       "    </tr>\n",
       "  </tbody>\n",
       "</table>\n",
       "</div>"
      ],
      "text/plain": [
       "            Name            Team  Number Position  Age  Height  Weight  \\\n",
       "0  Avery Bradley  Boston Celtics       0       PG   25  06-Feb     180   \n",
       "1    Jae Crowder  Boston Celtics      99       SF   25  06-Jun     235   \n",
       "2   John Holland  Boston Celtics      30       SG   27  06-May     205   \n",
       "3    R.J. Hunter  Boston Celtics      28       SG   22  06-May     185   \n",
       "4  Jonas Jerebko  Boston Celtics       8       PF   29  06-Oct     231   \n",
       "\n",
       "             College     Salary  \n",
       "0              Texas  7730337.0  \n",
       "1          Marquette  6796117.0  \n",
       "2  Boston University        NaN  \n",
       "3      Georgia State  1148640.0  \n",
       "4                NaN  5000000.0  "
      ]
     },
     "execution_count": 3,
     "metadata": {},
     "output_type": "execute_result"
    }
   ],
   "source": [
    "edf.head()"
   ]
  },
  {
   "cell_type": "code",
   "execution_count": 4,
   "id": "50a9fcf7-77e2-49e1-b48e-ea91d3bc3ab6",
   "metadata": {},
   "outputs": [
    {
     "data": {
      "text/html": [
       "<div>\n",
       "<style scoped>\n",
       "    .dataframe tbody tr th:only-of-type {\n",
       "        vertical-align: middle;\n",
       "    }\n",
       "\n",
       "    .dataframe tbody tr th {\n",
       "        vertical-align: top;\n",
       "    }\n",
       "\n",
       "    .dataframe thead th {\n",
       "        text-align: right;\n",
       "    }\n",
       "</style>\n",
       "<table border=\"1\" class=\"dataframe\">\n",
       "  <thead>\n",
       "    <tr style=\"text-align: right;\">\n",
       "      <th></th>\n",
       "      <th>Name</th>\n",
       "      <th>Team</th>\n",
       "      <th>Number</th>\n",
       "      <th>Position</th>\n",
       "      <th>Age</th>\n",
       "      <th>Height</th>\n",
       "      <th>Weight</th>\n",
       "      <th>College</th>\n",
       "      <th>Salary</th>\n",
       "    </tr>\n",
       "  </thead>\n",
       "  <tbody>\n",
       "    <tr>\n",
       "      <th>453</th>\n",
       "      <td>Shelvin Mack</td>\n",
       "      <td>Utah Jazz</td>\n",
       "      <td>8</td>\n",
       "      <td>PG</td>\n",
       "      <td>26</td>\n",
       "      <td>06-Mar</td>\n",
       "      <td>203</td>\n",
       "      <td>Butler</td>\n",
       "      <td>2433333.0</td>\n",
       "    </tr>\n",
       "    <tr>\n",
       "      <th>454</th>\n",
       "      <td>Raul Neto</td>\n",
       "      <td>Utah Jazz</td>\n",
       "      <td>25</td>\n",
       "      <td>PG</td>\n",
       "      <td>24</td>\n",
       "      <td>06-Jan</td>\n",
       "      <td>179</td>\n",
       "      <td>NaN</td>\n",
       "      <td>900000.0</td>\n",
       "    </tr>\n",
       "    <tr>\n",
       "      <th>455</th>\n",
       "      <td>Tibor Pleiss</td>\n",
       "      <td>Utah Jazz</td>\n",
       "      <td>21</td>\n",
       "      <td>C</td>\n",
       "      <td>26</td>\n",
       "      <td>07-Mar</td>\n",
       "      <td>256</td>\n",
       "      <td>NaN</td>\n",
       "      <td>2900000.0</td>\n",
       "    </tr>\n",
       "    <tr>\n",
       "      <th>456</th>\n",
       "      <td>Jeff Withey</td>\n",
       "      <td>Utah Jazz</td>\n",
       "      <td>24</td>\n",
       "      <td>C</td>\n",
       "      <td>26</td>\n",
       "      <td>7-0</td>\n",
       "      <td>231</td>\n",
       "      <td>Kansas</td>\n",
       "      <td>947276.0</td>\n",
       "    </tr>\n",
       "    <tr>\n",
       "      <th>457</th>\n",
       "      <td>Priyanka</td>\n",
       "      <td>Utah Jazz</td>\n",
       "      <td>34</td>\n",
       "      <td>C</td>\n",
       "      <td>25</td>\n",
       "      <td>07-Mar</td>\n",
       "      <td>231</td>\n",
       "      <td>Kansas</td>\n",
       "      <td>947276.0</td>\n",
       "    </tr>\n",
       "  </tbody>\n",
       "</table>\n",
       "</div>"
      ],
      "text/plain": [
       "             Name       Team  Number Position  Age  Height  Weight College  \\\n",
       "453  Shelvin Mack  Utah Jazz       8       PG   26  06-Mar     203  Butler   \n",
       "454     Raul Neto  Utah Jazz      25       PG   24  06-Jan     179     NaN   \n",
       "455  Tibor Pleiss  Utah Jazz      21        C   26  07-Mar     256     NaN   \n",
       "456   Jeff Withey  Utah Jazz      24        C   26     7-0     231  Kansas   \n",
       "457      Priyanka  Utah Jazz      34        C   25  07-Mar     231  Kansas   \n",
       "\n",
       "        Salary  \n",
       "453  2433333.0  \n",
       "454   900000.0  \n",
       "455  2900000.0  \n",
       "456   947276.0  \n",
       "457   947276.0  "
      ]
     },
     "execution_count": 4,
     "metadata": {},
     "output_type": "execute_result"
    }
   ],
   "source": [
    "edf.tail()"
   ]
  },
  {
   "cell_type": "code",
   "execution_count": 5,
   "id": "6defd23e-337a-404b-bbb4-affa1549c5a1",
   "metadata": {},
   "outputs": [
    {
     "name": "stdout",
     "output_type": "stream",
     "text": [
      "<class 'pandas.core.frame.DataFrame'>\n",
      "RangeIndex: 458 entries, 0 to 457\n",
      "Data columns (total 9 columns):\n",
      " #   Column    Non-Null Count  Dtype  \n",
      "---  ------    --------------  -----  \n",
      " 0   Name      458 non-null    object \n",
      " 1   Team      458 non-null    object \n",
      " 2   Number    458 non-null    int64  \n",
      " 3   Position  458 non-null    object \n",
      " 4   Age       458 non-null    int64  \n",
      " 5   Height    458 non-null    object \n",
      " 6   Weight    458 non-null    int64  \n",
      " 7   College   374 non-null    object \n",
      " 8   Salary    447 non-null    float64\n",
      "dtypes: float64(1), int64(3), object(5)\n",
      "memory usage: 32.3+ KB\n"
     ]
    }
   ],
   "source": [
    "edf.info()"
   ]
  },
  {
   "cell_type": "code",
   "execution_count": 6,
   "id": "1fe698cd-8608-464c-ac79-6b5a656357e9",
   "metadata": {},
   "outputs": [
    {
     "data": {
      "text/plain": [
       "Name         0\n",
       "Team         0\n",
       "Number       0\n",
       "Position     0\n",
       "Age          0\n",
       "Height       0\n",
       "Weight       0\n",
       "College     84\n",
       "Salary      11\n",
       "dtype: int64"
      ]
     },
     "execution_count": 6,
     "metadata": {},
     "output_type": "execute_result"
    }
   ],
   "source": [
    "edf.isnull().sum()"
   ]
  },
  {
   "cell_type": "code",
   "execution_count": 7,
   "id": "4e99d995-a980-4c25-8519-2c55e9b509da",
   "metadata": {},
   "outputs": [
    {
     "data": {
      "text/html": [
       "<div>\n",
       "<style scoped>\n",
       "    .dataframe tbody tr th:only-of-type {\n",
       "        vertical-align: middle;\n",
       "    }\n",
       "\n",
       "    .dataframe tbody tr th {\n",
       "        vertical-align: top;\n",
       "    }\n",
       "\n",
       "    .dataframe thead th {\n",
       "        text-align: right;\n",
       "    }\n",
       "</style>\n",
       "<table border=\"1\" class=\"dataframe\">\n",
       "  <thead>\n",
       "    <tr style=\"text-align: right;\">\n",
       "      <th></th>\n",
       "      <th>Name</th>\n",
       "      <th>Team</th>\n",
       "      <th>Number</th>\n",
       "      <th>Position</th>\n",
       "      <th>Age</th>\n",
       "      <th>Height</th>\n",
       "      <th>Weight</th>\n",
       "      <th>College</th>\n",
       "      <th>Salary</th>\n",
       "    </tr>\n",
       "  </thead>\n",
       "  <tbody>\n",
       "    <tr>\n",
       "      <th>count</th>\n",
       "      <td>458</td>\n",
       "      <td>458</td>\n",
       "      <td>458.000000</td>\n",
       "      <td>458</td>\n",
       "      <td>458.000000</td>\n",
       "      <td>458</td>\n",
       "      <td>458.000000</td>\n",
       "      <td>374</td>\n",
       "      <td>4.470000e+02</td>\n",
       "    </tr>\n",
       "    <tr>\n",
       "      <th>unique</th>\n",
       "      <td>458</td>\n",
       "      <td>30</td>\n",
       "      <td>NaN</td>\n",
       "      <td>5</td>\n",
       "      <td>NaN</td>\n",
       "      <td>18</td>\n",
       "      <td>NaN</td>\n",
       "      <td>118</td>\n",
       "      <td>NaN</td>\n",
       "    </tr>\n",
       "    <tr>\n",
       "      <th>top</th>\n",
       "      <td>Avery Bradley</td>\n",
       "      <td>New Orleans Pelicans</td>\n",
       "      <td>NaN</td>\n",
       "      <td>SG</td>\n",
       "      <td>NaN</td>\n",
       "      <td>06-Sep</td>\n",
       "      <td>NaN</td>\n",
       "      <td>Kentucky</td>\n",
       "      <td>NaN</td>\n",
       "    </tr>\n",
       "    <tr>\n",
       "      <th>freq</th>\n",
       "      <td>1</td>\n",
       "      <td>19</td>\n",
       "      <td>NaN</td>\n",
       "      <td>102</td>\n",
       "      <td>NaN</td>\n",
       "      <td>59</td>\n",
       "      <td>NaN</td>\n",
       "      <td>22</td>\n",
       "      <td>NaN</td>\n",
       "    </tr>\n",
       "    <tr>\n",
       "      <th>mean</th>\n",
       "      <td>NaN</td>\n",
       "      <td>NaN</td>\n",
       "      <td>17.713974</td>\n",
       "      <td>NaN</td>\n",
       "      <td>26.934498</td>\n",
       "      <td>NaN</td>\n",
       "      <td>221.543668</td>\n",
       "      <td>NaN</td>\n",
       "      <td>4.833970e+06</td>\n",
       "    </tr>\n",
       "    <tr>\n",
       "      <th>std</th>\n",
       "      <td>NaN</td>\n",
       "      <td>NaN</td>\n",
       "      <td>15.966837</td>\n",
       "      <td>NaN</td>\n",
       "      <td>4.400128</td>\n",
       "      <td>NaN</td>\n",
       "      <td>26.343200</td>\n",
       "      <td>NaN</td>\n",
       "      <td>5.226620e+06</td>\n",
       "    </tr>\n",
       "    <tr>\n",
       "      <th>min</th>\n",
       "      <td>NaN</td>\n",
       "      <td>NaN</td>\n",
       "      <td>0.000000</td>\n",
       "      <td>NaN</td>\n",
       "      <td>19.000000</td>\n",
       "      <td>NaN</td>\n",
       "      <td>161.000000</td>\n",
       "      <td>NaN</td>\n",
       "      <td>3.088800e+04</td>\n",
       "    </tr>\n",
       "    <tr>\n",
       "      <th>25%</th>\n",
       "      <td>NaN</td>\n",
       "      <td>NaN</td>\n",
       "      <td>5.000000</td>\n",
       "      <td>NaN</td>\n",
       "      <td>24.000000</td>\n",
       "      <td>NaN</td>\n",
       "      <td>200.000000</td>\n",
       "      <td>NaN</td>\n",
       "      <td>1.025210e+06</td>\n",
       "    </tr>\n",
       "    <tr>\n",
       "      <th>50%</th>\n",
       "      <td>NaN</td>\n",
       "      <td>NaN</td>\n",
       "      <td>13.000000</td>\n",
       "      <td>NaN</td>\n",
       "      <td>26.000000</td>\n",
       "      <td>NaN</td>\n",
       "      <td>220.000000</td>\n",
       "      <td>NaN</td>\n",
       "      <td>2.836186e+06</td>\n",
       "    </tr>\n",
       "    <tr>\n",
       "      <th>75%</th>\n",
       "      <td>NaN</td>\n",
       "      <td>NaN</td>\n",
       "      <td>25.000000</td>\n",
       "      <td>NaN</td>\n",
       "      <td>30.000000</td>\n",
       "      <td>NaN</td>\n",
       "      <td>240.000000</td>\n",
       "      <td>NaN</td>\n",
       "      <td>6.500000e+06</td>\n",
       "    </tr>\n",
       "    <tr>\n",
       "      <th>max</th>\n",
       "      <td>NaN</td>\n",
       "      <td>NaN</td>\n",
       "      <td>99.000000</td>\n",
       "      <td>NaN</td>\n",
       "      <td>40.000000</td>\n",
       "      <td>NaN</td>\n",
       "      <td>307.000000</td>\n",
       "      <td>NaN</td>\n",
       "      <td>2.500000e+07</td>\n",
       "    </tr>\n",
       "  </tbody>\n",
       "</table>\n",
       "</div>"
      ],
      "text/plain": [
       "                 Name                  Team      Number Position         Age  \\\n",
       "count             458                   458  458.000000      458  458.000000   \n",
       "unique            458                    30         NaN        5         NaN   \n",
       "top     Avery Bradley  New Orleans Pelicans         NaN       SG         NaN   \n",
       "freq                1                    19         NaN      102         NaN   \n",
       "mean              NaN                   NaN   17.713974      NaN   26.934498   \n",
       "std               NaN                   NaN   15.966837      NaN    4.400128   \n",
       "min               NaN                   NaN    0.000000      NaN   19.000000   \n",
       "25%               NaN                   NaN    5.000000      NaN   24.000000   \n",
       "50%               NaN                   NaN   13.000000      NaN   26.000000   \n",
       "75%               NaN                   NaN   25.000000      NaN   30.000000   \n",
       "max               NaN                   NaN   99.000000      NaN   40.000000   \n",
       "\n",
       "        Height      Weight   College        Salary  \n",
       "count      458  458.000000       374  4.470000e+02  \n",
       "unique      18         NaN       118           NaN  \n",
       "top     06-Sep         NaN  Kentucky           NaN  \n",
       "freq        59         NaN        22           NaN  \n",
       "mean       NaN  221.543668       NaN  4.833970e+06  \n",
       "std        NaN   26.343200       NaN  5.226620e+06  \n",
       "min        NaN  161.000000       NaN  3.088800e+04  \n",
       "25%        NaN  200.000000       NaN  1.025210e+06  \n",
       "50%        NaN  220.000000       NaN  2.836186e+06  \n",
       "75%        NaN  240.000000       NaN  6.500000e+06  \n",
       "max        NaN  307.000000       NaN  2.500000e+07  "
      ]
     },
     "execution_count": 7,
     "metadata": {},
     "output_type": "execute_result"
    }
   ],
   "source": [
    "edf.describe(include=\"all\")"
   ]
  },
  {
   "cell_type": "code",
   "execution_count": 8,
   "id": "cdcdc01c-1a80-47a3-b59b-871a39428ebf",
   "metadata": {},
   "outputs": [
    {
     "data": {
      "text/plain": [
       "0"
      ]
     },
     "execution_count": 8,
     "metadata": {},
     "output_type": "execute_result"
    }
   ],
   "source": [
    "# To check if there is any duplicate value\n",
    "edf.duplicated().sum()"
   ]
  },
  {
   "cell_type": "code",
   "execution_count": 9,
   "id": "2a8fdb43-3258-4297-b285-9d333f04bdd4",
   "metadata": {},
   "outputs": [
    {
     "data": {
      "text/plain": [
       "Index(['Name', 'Team', 'Number', 'Position', 'Age', 'Height', 'Weight',\n",
       "       'College', 'Salary'],\n",
       "      dtype='object')"
      ]
     },
     "execution_count": 9,
     "metadata": {},
     "output_type": "execute_result"
    }
   ],
   "source": [
    "edf.columns"
   ]
  },
  {
   "cell_type": "code",
   "execution_count": 63,
   "id": "7dafcd68-e106-4ecc-ae6e-a31da1fc2703",
   "metadata": {},
   "outputs": [
    {
     "data": {
      "text/plain": [
       "Name             458\n",
       "Team              30\n",
       "Number            53\n",
       "Position           5\n",
       "Age               22\n",
       "Weight            87\n",
       "College          118\n",
       "Salary           309\n",
       "Height(in cm)     31\n",
       "dtype: int64"
      ]
     },
     "execution_count": 63,
     "metadata": {},
     "output_type": "execute_result"
    }
   ],
   "source": [
    "edf.nunique()"
   ]
  },
  {
   "cell_type": "code",
   "execution_count": 66,
   "id": "d531e4a8-145b-48b1-a11e-c6950f58feca",
   "metadata": {},
   "outputs": [
    {
     "data": {
      "text/plain": [
       "array(['PG', 'SF', 'SG', 'PF', 'C'], dtype=object)"
      ]
     },
     "execution_count": 66,
     "metadata": {},
     "output_type": "execute_result"
    }
   ],
   "source": [
    "edf.Position.unique()"
   ]
  },
  {
   "cell_type": "code",
   "execution_count": 67,
   "id": "b8b5ad00-28b5-4efa-b123-0f5815518ecb",
   "metadata": {},
   "outputs": [
    {
     "data": {
      "text/plain": [
       "array(['Boston Celtics', 'Brooklyn Nets', 'New York Knicks',\n",
       "       'Philadelphia 76ers', 'Toronto Raptors', 'Golden State Warriors',\n",
       "       'Los Angeles Clippers', 'Los Angeles Lakers', 'Phoenix Suns',\n",
       "       'Sacramento Kings', 'Chicago Bulls', 'Cleveland Cavaliers',\n",
       "       'Detroit Pistons', 'Indiana Pacers', 'Milwaukee Bucks',\n",
       "       'Dallas Mavericks', 'Houston Rockets', 'Memphis Grizzlies',\n",
       "       'New Orleans Pelicans', 'San Antonio Spurs', 'Atlanta Hawks',\n",
       "       'Charlotte Hornets', 'Miami Heat', 'Orlando Magic',\n",
       "       'Washington Wizards', 'Denver Nuggets', 'Minnesota Timberwolves',\n",
       "       'Oklahoma City Thunder', 'Portland Trail Blazers', 'Utah Jazz'],\n",
       "      dtype=object)"
      ]
     },
     "execution_count": 67,
     "metadata": {},
     "output_type": "execute_result"
    }
   ],
   "source": [
    "edf['Team'].unique()"
   ]
  },
  {
   "cell_type": "code",
   "execution_count": 68,
   "id": "42e38ceb-71f6-46b8-8b1a-a3b597b4fe07",
   "metadata": {},
   "outputs": [
    {
     "data": {
      "text/plain": [
       "array(['Texas', 'Marquette', 'Boston University', 'Georgia State', nan,\n",
       "       'LSU', 'Gonzaga', 'Louisville', 'Oklahoma State', 'Ohio State',\n",
       "       'Washington', 'Kentucky', 'North Carolina', 'Arizona',\n",
       "       'Georgia Tech', 'Cincinnati', 'Miami (FL)', 'Stanford', 'Syracuse',\n",
       "       'Saint Louis', 'Kansas', 'Georgetown', 'Texas A&M', 'UCLA', 'UNLV',\n",
       "       'Wichita State', \"Saint Joseph's\", 'Notre Dame', 'Norfolk State',\n",
       "       'Duke', 'Murray State', 'Tennessee State', 'Bowling Green',\n",
       "       'Purdue', 'Wake Forest', 'Michigan', 'Missouri', 'USC',\n",
       "       'Villanova', 'Rider', 'Utah', 'Belmont', 'Davidson', 'Vanderbilt',\n",
       "       'Michigan State', 'Florida', 'Washington State', 'Arizona State',\n",
       "       'Oklahoma', 'Wyoming', \"St. John's\", 'Maryland', 'Wisconsin',\n",
       "       'Utah Valley', 'North Carolina State', 'UC Santa Barbara',\n",
       "       'Baylor', 'Connecticut', 'Oregon State', 'New Mexico', 'Oregon',\n",
       "       'Creighton', 'Arkansas', 'Memphis', \"Saint Mary's\", 'Tennessee',\n",
       "       'Alabama', 'Georgia', 'Colorado', 'Boston College', 'Temple',\n",
       "       'Fresno State', 'IUPUI', 'Eastern Washington', 'Western Michigan',\n",
       "       'Virginia', 'Northeastern', 'Western Kentucky', 'Nevada',\n",
       "       'Illinois', 'Kansas State', 'Charleston', 'Clemson',\n",
       "       'Blinn College', 'Providence', 'Detroit', 'Rhode Island',\n",
       "       'California', 'Cleveland State', 'Iowa State', 'Florida State',\n",
       "       'Long Beach State', 'Penn State', 'Indiana', 'San Diego State',\n",
       "       'Western Carolina', 'Houston', 'Xavier', 'Old Dominion',\n",
       "       'Minnesota', 'Louisiana Tech', 'Bucknell', 'Pittsburgh',\n",
       "       'Virginia Commonwealth', 'Harvard', 'Marshall', 'Iowa',\n",
       "       'St. Bonaventure', 'Louisiana-Lafayette', 'Colorado State',\n",
       "       'Virginia Tech', 'DePaul', 'Morehead State', 'Central Michigan',\n",
       "       'Weber State', 'Lehigh', 'Westchester CC', 'Dayton', 'Butler'],\n",
       "      dtype=object)"
      ]
     },
     "execution_count": 68,
     "metadata": {},
     "output_type": "execute_result"
    }
   ],
   "source": [
    "edf['College'].unique()"
   ]
  },
  {
   "cell_type": "code",
   "execution_count": 69,
   "id": "78d20bba-a8a5-41af-8f38-0623e5b83aec",
   "metadata": {},
   "outputs": [
    {
     "data": {
      "text/plain": [
       "array(['Avery Bradley', 'Jae Crowder', 'John Holland', 'R.J. Hunter',\n",
       "       'Jonas Jerebko', 'Amir Johnson', 'Jordan Mickey', 'Kelly Olynyk',\n",
       "       'Terry Rozier', 'Marcus Smart', 'Jared Sullinger', 'Isaiah Thomas',\n",
       "       'Evan Turner', 'James Young', 'Tyler Zeller', 'Bojan Bogdanovic',\n",
       "       'Markel Brown', 'Wayne Ellington', 'Rondae Hollis-Jefferson',\n",
       "       'Jarrett Jack', 'Sergey Karasev', 'Sean Kilpatrick',\n",
       "       'Shane Larkin', 'Brook Lopez', 'Chris McCullough', 'Willie Reed',\n",
       "       'Thomas Robinson', 'Henry Sims', 'Donald Sloan', 'Thaddeus Young',\n",
       "       'Arron Afflalo', 'Lou Amundson', 'Thanasis Antetokounmpo',\n",
       "       'Carmelo Anthony', 'Jose Calderon', 'Cleanthony Early',\n",
       "       'Langston Galloway', 'Jerian Grant', 'Robin Lopez', \"Kyle O'Quinn\",\n",
       "       'Kristaps Porzingis', 'Kevin Seraphin', 'Lance Thomas',\n",
       "       'Sasha Vujacic', 'Derrick Williams', 'Tony Wroten', 'Elton Brand',\n",
       "       'Isaiah Canaan', 'Robert Covington', 'Joel Embiid', 'Jerami Grant',\n",
       "       'Richaun Holmes', 'Carl Landry', 'Kendall Marshall',\n",
       "       'T.J. McConnell', 'Nerlens Noel', 'Jahlil Okafor', 'Ish Smith',\n",
       "       'Nik Stauskas', 'Hollis Thompson', 'Christian Wood',\n",
       "       'Bismack Biyombo', 'Bruno Caboclo', 'DeMarre Carroll',\n",
       "       'DeMar DeRozan', 'James Johnson', 'Cory Joseph', 'Kyle Lowry',\n",
       "       'Lucas Nogueira', 'Patrick Patterson', 'Norman Powell',\n",
       "       'Terrence Ross', 'Luis Scola', 'Jason Thompson',\n",
       "       'Jonas Valanciunas', 'Delon Wright', 'Leandro Barbosa',\n",
       "       'Harrison Barnes', 'Andrew Bogut', 'Ian Clark', 'Stephen Curry',\n",
       "       'Festus Ezeli', 'Draymond Green', 'Andre Iguodala',\n",
       "       'Shaun Livingston', 'Kevon Looney', 'James Michael McAdoo',\n",
       "       'Brandon Rush', 'Marreese Speights', 'Klay Thompson',\n",
       "       'Anderson Varejao', 'Cole Aldrich', 'Jeff Ayres', 'Jamal Crawford',\n",
       "       'Branden Dawson', 'Jeff Green', 'Blake Griffin', 'Wesley Johnson',\n",
       "       'DeAndre Jordan', 'Luc Richard Mbah a Moute', 'Chris Paul',\n",
       "       'Paul Pierce', 'Pablo Prigioni', 'JJ Redick', 'Austin Rivers',\n",
       "       'C.J. Wilcox', 'Brandon Bass', 'Tarik Black', 'Anthony Brown',\n",
       "       'Kobe Bryant', 'Jordan Clarkson', 'Roy Hibbert', 'Marcelo Huertas',\n",
       "       'Ryan Kelly', 'Larry Nance Jr.', 'Julius Randle',\n",
       "       \"D'Angelo Russell\", 'Robert Sacre', 'Louis Williams',\n",
       "       'Metta World Peace', 'Nick Young', 'Eric Bledsoe', 'Devin Booker',\n",
       "       'Chase Budinger', 'Tyson Chandler', 'Archie Goodwin',\n",
       "       'John Jenkins', 'Brandon Knight', 'Alex Len', 'Jon Leuer',\n",
       "       'Phil Pressey', 'Ronnie Price', 'Mirza Teletovic', 'P.J. Tucker',\n",
       "       'T.J. Warren', 'Alan Williams', 'Quincy Acy', 'James Anderson',\n",
       "       'Marco Belinelli', 'Caron Butler', 'Omri Casspi',\n",
       "       'Willie Cauley-Stein', 'Darren Collison', 'DeMarcus Cousins',\n",
       "       'Seth Curry', 'Duje Dukan', 'Rudy Gay', 'Kosta Koufos',\n",
       "       'Ben McLemore', 'Eric Moreland', 'Rajon Rondo', 'Cameron Bairstow',\n",
       "       'Aaron Brooks', 'Jimmy Butler', 'Mike Dunleavy',\n",
       "       'Cristiano Felicio', 'Pau Gasol', 'Taj Gibson', 'Justin Holiday',\n",
       "       'Doug McDermott', 'Nikola Mirotic', \"E'Twaun Moore\", 'Joakim Noah',\n",
       "       'Bobby Portis', 'Derrick Rose', 'Tony Snell',\n",
       "       'Matthew Dellavedova', 'Channing Frye', 'Kyrie Irving',\n",
       "       'LeBron James', 'Richard Jefferson', 'Dahntay Jones',\n",
       "       'James Jones', 'Sasha Kaun', 'Kevin Love', 'Jordan McRae',\n",
       "       'Timofey Mozgov', 'Iman Shumpert', 'J.R. Smith',\n",
       "       'Tristan Thompson', 'Mo Williams', 'Joel Anthony', 'Aron Baynes',\n",
       "       'Steve Blake', 'Lorenzo Brown', 'Reggie Bullock',\n",
       "       'Kentavious Caldwell-Pope', 'Spencer Dinwiddie', 'Andre Drummond',\n",
       "       'Tobias Harris', 'Darrun Hilliard', 'Reggie Jackson',\n",
       "       'Stanley Johnson', 'Jodie Meeks', 'Marcus Morris',\n",
       "       'Anthony Tolliver', 'Lavoy Allen', 'Rakeem Christmas',\n",
       "       'Monta Ellis', 'Paul George', 'George Hill', 'Jordan Hill',\n",
       "       'Solomon Hill', 'Ty Lawson', 'Ian Mahinmi', 'C.J. Miles',\n",
       "       'Glenn Robinson III', 'Rodney Stuckey', 'Myles Turner',\n",
       "       'Shayne Whittington', 'Joe Young', 'Giannis Antetokounmpo',\n",
       "       'Jerryd Bayless', 'Michael Carter-Williams', 'Jared Cunningham',\n",
       "       'Tyler Ennis', 'John Henson', 'Damien Inglis', 'O.J. Mayo',\n",
       "       'Khris Middleton', 'Greg Monroe', 'Steve Novak',\n",
       "       \"Johnny O'Bryant III\", 'Jabari Parker', 'Miles Plumlee',\n",
       "       'Greivis Vasquez', 'Rashad Vaughn', 'Justin Anderson',\n",
       "       'J.J. Barea', 'Jeremy Evans', 'Raymond Felton', 'Devin Harris',\n",
       "       'David Lee', 'Wesley Matthews', 'JaVale McGee', 'Salah Mejri',\n",
       "       'Dirk Nowitzki', 'Zaza Pachulia', 'Chandler Parsons',\n",
       "       'Dwight Powell', 'Charlie Villanueva', 'Deron Williams',\n",
       "       'Trevor Ariza', 'Michael Beasley', 'Patrick Beverley',\n",
       "       'Corey Brewer', 'Clint Capela', 'Sam Dekker', 'Andrew Goudelock',\n",
       "       'James Harden', 'Montrezl Harrell', 'Dwight Howard',\n",
       "       'Terrence Jones', 'K.J. McDaniels', 'Donatas Motiejunas',\n",
       "       'Josh Smith', 'Jason Terry', 'Jordan Adams', 'Tony Allen',\n",
       "       'Chris Andersen', 'Matt Barnes', 'Vince Carter', 'Mike Conley',\n",
       "       'Bryce Cotton', 'Jordan Farmar', 'Marc Gasol', 'JaMychal Green',\n",
       "       'P.J. Hairston', 'Jarell Martin', 'Ray McCallum', 'Xavier Munford',\n",
       "       'Zach Randolph', 'Lance Stephenson', 'Alex Stepheson',\n",
       "       'Brandan Wright', 'Alexis Ajinca', 'Ryan Anderson', 'Omer Asik',\n",
       "       'Luke Babbitt', 'Norris Cole', 'Dante Cunningham', 'Anthony Davis',\n",
       "       'Bryce Dejean-Jones', 'Toney Douglas', 'James Ennis',\n",
       "       'Tyreke Evans', 'Tim Frazier', 'Alonzo Gee', 'Eric Gordon',\n",
       "       'Jordan Hamilton', 'Jrue Holiday', 'Orlando Johnson',\n",
       "       'Kendrick Perkins', 'Quincy Pondexter', 'LaMarcus Aldridge',\n",
       "       'Kyle Anderson', 'Matt Bonner', 'Boris Diaw', 'Tim Duncan',\n",
       "       'Manu Ginobili', 'Danny Green', 'Kawhi Leonard',\n",
       "       'Boban Marjanovic', 'Kevin Martin', 'Andre Miller', 'Patty Mills',\n",
       "       'Tony Parker', 'Jonathon Simmons', 'David West', 'Kent Bazemore',\n",
       "       'Tim Hardaway Jr.', 'Kirk Hinrich', 'Al Horford', 'Kris Humphries',\n",
       "       'Kyle Korver', 'Paul Millsap', 'Mike Muscala', 'Lamar Patterson',\n",
       "       'Dennis Schroder', 'Mike Scott', 'Thabo Sefolosha',\n",
       "       'Tiago Splitter', 'Walter Tavares', 'Jeff Teague', 'Nicolas Batum',\n",
       "       'Troy Daniels', 'Jorge Gutierrez', 'Tyler Hansbrough',\n",
       "       'Aaron Harrison', 'Spencer Hawes', 'Al Jefferson',\n",
       "       'Frank Kaminsky III', 'Michael Kidd-Gilchrist', 'Jeremy Lamb',\n",
       "       'Courtney Lee', 'Jeremy Lin', 'Kemba Walker', 'Marvin Williams',\n",
       "       'Cody Zeller', 'Chris Bosh', 'Luol Deng', 'Goran Dragic',\n",
       "       'Gerald Green', 'Udonis Haslem', 'Joe Johnson', 'Tyler Johnson',\n",
       "       'Josh McRoberts', 'Josh Richardson', \"Amar'e Stoudemire\",\n",
       "       'Dwyane Wade', 'Briante Weber', 'Hassan Whiteside',\n",
       "       'Justise Winslow', 'Dorell Wright', 'Dewayne Dedmon',\n",
       "       'Evan Fournier', 'Aaron Gordon', 'Mario Hezonja', 'Ersan Ilyasova',\n",
       "       'Brandon Jennings', 'Devyn Marble', 'Shabazz Napier',\n",
       "       'Andrew Nicholson', 'Victor Oladipo', 'Elfrid Payton',\n",
       "       'Jason Smith', 'Nikola Vucevic', 'C.J. Watson', 'Alan Anderson',\n",
       "       'Bradley Beal', 'Jared Dudley', 'Jarell Eddie', 'Drew Gooden',\n",
       "       'Marcin Gortat', 'JJ Hickson', 'Nene Hilario', 'Markieff Morris',\n",
       "       'Kelly Oubre Jr.', 'Otto Porter Jr.', 'Ramon Sessions',\n",
       "       'Garrett Temple', 'Marcus Thornton', 'John Wall', 'Darrell Arthur',\n",
       "       'D.J. Augustin', 'Will Barton', 'Wilson Chandler',\n",
       "       'Kenneth Faried', 'Danilo Gallinari', 'Gary Harris',\n",
       "       'Nikola Jokic', 'Joffrey Lauvergne', 'Mike Miller',\n",
       "       'Emmanuel Mudiay', 'Jameer Nelson', 'Jusuf Nurkic',\n",
       "       'JaKarr Sampson', 'Axel Toupane', 'Nemanja Bjelica',\n",
       "       'Gorgui Dieng', 'Kevin Garnett', 'Tyus Jones', 'Zach LaVine',\n",
       "       'Shabazz Muhammad', 'Adreian Payne', 'Nikola Pekovic',\n",
       "       'Tayshaun Prince', 'Ricky Rubio', 'Damjan Rudez', 'Greg Smith',\n",
       "       'Karl-Anthony Towns', 'Andrew Wiggins', 'Steven Adams',\n",
       "       'Nick Collison', 'Kevin Durant', 'Randy Foye', 'Josh Huestis',\n",
       "       'Serge Ibaka', 'Enes Kanter', 'Mitch McGary', 'Nazr Mohammed',\n",
       "       'Anthony Morrow', 'Cameron Payne', 'Andre Roberson',\n",
       "       'Kyle Singler', 'Dion Waiters', 'Russell Westbrook',\n",
       "       'Cliff Alexander', 'Al-Farouq Aminu', 'Pat Connaughton',\n",
       "       'Allen Crabbe', 'Ed Davis', 'Maurice Harkless', 'Gerald Henderson',\n",
       "       'Chris Kaman', 'Meyers Leonard', 'Damian Lillard', 'C.J. McCollum',\n",
       "       'Luis Montero', 'Mason Plumlee', 'Brian Roberts', 'Noah Vonleh',\n",
       "       'Trevor Booker', 'Trey Burke', 'Alec Burks', 'Dante Exum',\n",
       "       'Derrick Favors', 'Rudy Gobert', 'Gordon Hayward', 'Rodney Hood',\n",
       "       'Joe Ingles', 'Chris Johnson', 'Trey Lyles', 'Shelvin Mack',\n",
       "       'Raul Neto', 'Tibor Pleiss', 'Jeff Withey', 'Priyanka'],\n",
       "      dtype=object)"
      ]
     },
     "execution_count": 69,
     "metadata": {},
     "output_type": "execute_result"
    }
   ],
   "source": [
    "edf.Name.unique()"
   ]
  },
  {
   "cell_type": "markdown",
   "id": "f3887b44-734e-4743-9ece-cb370d25bf6b",
   "metadata": {},
   "source": [
    "### Step 2.Drop the columns that aren't useful"
   ]
  },
  {
   "cell_type": "code",
   "execution_count": 23,
   "id": "60a670de-7c36-4935-b576-df80c7a2a636",
   "metadata": {},
   "outputs": [
    {
     "data": {
      "text/html": [
       "<div>\n",
       "<style scoped>\n",
       "    .dataframe tbody tr th:only-of-type {\n",
       "        vertical-align: middle;\n",
       "    }\n",
       "\n",
       "    .dataframe tbody tr th {\n",
       "        vertical-align: top;\n",
       "    }\n",
       "\n",
       "    .dataframe thead th {\n",
       "        text-align: right;\n",
       "    }\n",
       "</style>\n",
       "<table border=\"1\" class=\"dataframe\">\n",
       "  <thead>\n",
       "    <tr style=\"text-align: right;\">\n",
       "      <th></th>\n",
       "      <th>Name</th>\n",
       "      <th>Team</th>\n",
       "      <th>Number</th>\n",
       "      <th>Position</th>\n",
       "      <th>Age</th>\n",
       "      <th>Weight</th>\n",
       "      <th>College</th>\n",
       "      <th>Salary</th>\n",
       "    </tr>\n",
       "  </thead>\n",
       "  <tbody>\n",
       "    <tr>\n",
       "      <th>0</th>\n",
       "      <td>Avery Bradley</td>\n",
       "      <td>Boston Celtics</td>\n",
       "      <td>0</td>\n",
       "      <td>PG</td>\n",
       "      <td>25</td>\n",
       "      <td>180</td>\n",
       "      <td>Texas</td>\n",
       "      <td>7730337.0</td>\n",
       "    </tr>\n",
       "    <tr>\n",
       "      <th>1</th>\n",
       "      <td>Jae Crowder</td>\n",
       "      <td>Boston Celtics</td>\n",
       "      <td>99</td>\n",
       "      <td>SF</td>\n",
       "      <td>25</td>\n",
       "      <td>235</td>\n",
       "      <td>Marquette</td>\n",
       "      <td>6796117.0</td>\n",
       "    </tr>\n",
       "    <tr>\n",
       "      <th>2</th>\n",
       "      <td>John Holland</td>\n",
       "      <td>Boston Celtics</td>\n",
       "      <td>30</td>\n",
       "      <td>SG</td>\n",
       "      <td>27</td>\n",
       "      <td>205</td>\n",
       "      <td>Boston University</td>\n",
       "      <td>NaN</td>\n",
       "    </tr>\n",
       "    <tr>\n",
       "      <th>3</th>\n",
       "      <td>R.J. Hunter</td>\n",
       "      <td>Boston Celtics</td>\n",
       "      <td>28</td>\n",
       "      <td>SG</td>\n",
       "      <td>22</td>\n",
       "      <td>185</td>\n",
       "      <td>Georgia State</td>\n",
       "      <td>1148640.0</td>\n",
       "    </tr>\n",
       "    <tr>\n",
       "      <th>4</th>\n",
       "      <td>Jonas Jerebko</td>\n",
       "      <td>Boston Celtics</td>\n",
       "      <td>8</td>\n",
       "      <td>PF</td>\n",
       "      <td>29</td>\n",
       "      <td>231</td>\n",
       "      <td>NaN</td>\n",
       "      <td>5000000.0</td>\n",
       "    </tr>\n",
       "    <tr>\n",
       "      <th>...</th>\n",
       "      <td>...</td>\n",
       "      <td>...</td>\n",
       "      <td>...</td>\n",
       "      <td>...</td>\n",
       "      <td>...</td>\n",
       "      <td>...</td>\n",
       "      <td>...</td>\n",
       "      <td>...</td>\n",
       "    </tr>\n",
       "    <tr>\n",
       "      <th>453</th>\n",
       "      <td>Shelvin Mack</td>\n",
       "      <td>Utah Jazz</td>\n",
       "      <td>8</td>\n",
       "      <td>PG</td>\n",
       "      <td>26</td>\n",
       "      <td>203</td>\n",
       "      <td>Butler</td>\n",
       "      <td>2433333.0</td>\n",
       "    </tr>\n",
       "    <tr>\n",
       "      <th>454</th>\n",
       "      <td>Raul Neto</td>\n",
       "      <td>Utah Jazz</td>\n",
       "      <td>25</td>\n",
       "      <td>PG</td>\n",
       "      <td>24</td>\n",
       "      <td>179</td>\n",
       "      <td>NaN</td>\n",
       "      <td>900000.0</td>\n",
       "    </tr>\n",
       "    <tr>\n",
       "      <th>455</th>\n",
       "      <td>Tibor Pleiss</td>\n",
       "      <td>Utah Jazz</td>\n",
       "      <td>21</td>\n",
       "      <td>C</td>\n",
       "      <td>26</td>\n",
       "      <td>256</td>\n",
       "      <td>NaN</td>\n",
       "      <td>2900000.0</td>\n",
       "    </tr>\n",
       "    <tr>\n",
       "      <th>456</th>\n",
       "      <td>Jeff Withey</td>\n",
       "      <td>Utah Jazz</td>\n",
       "      <td>24</td>\n",
       "      <td>C</td>\n",
       "      <td>26</td>\n",
       "      <td>231</td>\n",
       "      <td>Kansas</td>\n",
       "      <td>947276.0</td>\n",
       "    </tr>\n",
       "    <tr>\n",
       "      <th>457</th>\n",
       "      <td>Priyanka</td>\n",
       "      <td>Utah Jazz</td>\n",
       "      <td>34</td>\n",
       "      <td>C</td>\n",
       "      <td>25</td>\n",
       "      <td>231</td>\n",
       "      <td>Kansas</td>\n",
       "      <td>947276.0</td>\n",
       "    </tr>\n",
       "  </tbody>\n",
       "</table>\n",
       "<p>458 rows × 8 columns</p>\n",
       "</div>"
      ],
      "text/plain": [
       "              Name            Team  Number Position  Age  Weight  \\\n",
       "0    Avery Bradley  Boston Celtics       0       PG   25     180   \n",
       "1      Jae Crowder  Boston Celtics      99       SF   25     235   \n",
       "2     John Holland  Boston Celtics      30       SG   27     205   \n",
       "3      R.J. Hunter  Boston Celtics      28       SG   22     185   \n",
       "4    Jonas Jerebko  Boston Celtics       8       PF   29     231   \n",
       "..             ...             ...     ...      ...  ...     ...   \n",
       "453   Shelvin Mack       Utah Jazz       8       PG   26     203   \n",
       "454      Raul Neto       Utah Jazz      25       PG   24     179   \n",
       "455   Tibor Pleiss       Utah Jazz      21        C   26     256   \n",
       "456    Jeff Withey       Utah Jazz      24        C   26     231   \n",
       "457       Priyanka       Utah Jazz      34        C   25     231   \n",
       "\n",
       "               College     Salary  \n",
       "0                Texas  7730337.0  \n",
       "1            Marquette  6796117.0  \n",
       "2    Boston University        NaN  \n",
       "3        Georgia State  1148640.0  \n",
       "4                  NaN  5000000.0  \n",
       "..                 ...        ...  \n",
       "453             Butler  2433333.0  \n",
       "454                NaN   900000.0  \n",
       "455                NaN  2900000.0  \n",
       "456             Kansas   947276.0  \n",
       "457             Kansas   947276.0  \n",
       "\n",
       "[458 rows x 8 columns]"
      ]
     },
     "execution_count": 23,
     "metadata": {},
     "output_type": "execute_result"
    }
   ],
   "source": [
    "edf.drop(['Height'],axis=1,inplace=True)\n",
    "edf"
   ]
  },
  {
   "cell_type": "markdown",
   "id": "0061561a-4baa-495d-a6a4-a7077794fab8",
   "metadata": {},
   "source": [
    "### Step3.  Creating a new 'Height' column with random values"
   ]
  },
  {
   "cell_type": "code",
   "execution_count": 24,
   "id": "571b7798-1df3-4dd5-aa9f-8f47afb670e6",
   "metadata": {},
   "outputs": [
    {
     "data": {
      "text/html": [
       "<div>\n",
       "<style scoped>\n",
       "    .dataframe tbody tr th:only-of-type {\n",
       "        vertical-align: middle;\n",
       "    }\n",
       "\n",
       "    .dataframe tbody tr th {\n",
       "        vertical-align: top;\n",
       "    }\n",
       "\n",
       "    .dataframe thead th {\n",
       "        text-align: right;\n",
       "    }\n",
       "</style>\n",
       "<table border=\"1\" class=\"dataframe\">\n",
       "  <thead>\n",
       "    <tr style=\"text-align: right;\">\n",
       "      <th></th>\n",
       "      <th>Name</th>\n",
       "      <th>Team</th>\n",
       "      <th>Number</th>\n",
       "      <th>Position</th>\n",
       "      <th>Age</th>\n",
       "      <th>Weight</th>\n",
       "      <th>College</th>\n",
       "      <th>Salary</th>\n",
       "      <th>Height(in cm)</th>\n",
       "    </tr>\n",
       "  </thead>\n",
       "  <tbody>\n",
       "    <tr>\n",
       "      <th>0</th>\n",
       "      <td>Avery Bradley</td>\n",
       "      <td>Boston Celtics</td>\n",
       "      <td>0</td>\n",
       "      <td>PG</td>\n",
       "      <td>25</td>\n",
       "      <td>180</td>\n",
       "      <td>Texas</td>\n",
       "      <td>7730337.0</td>\n",
       "      <td>161</td>\n",
       "    </tr>\n",
       "    <tr>\n",
       "      <th>1</th>\n",
       "      <td>Jae Crowder</td>\n",
       "      <td>Boston Celtics</td>\n",
       "      <td>99</td>\n",
       "      <td>SF</td>\n",
       "      <td>25</td>\n",
       "      <td>235</td>\n",
       "      <td>Marquette</td>\n",
       "      <td>6796117.0</td>\n",
       "      <td>154</td>\n",
       "    </tr>\n",
       "    <tr>\n",
       "      <th>2</th>\n",
       "      <td>John Holland</td>\n",
       "      <td>Boston Celtics</td>\n",
       "      <td>30</td>\n",
       "      <td>SG</td>\n",
       "      <td>27</td>\n",
       "      <td>205</td>\n",
       "      <td>Boston University</td>\n",
       "      <td>NaN</td>\n",
       "      <td>174</td>\n",
       "    </tr>\n",
       "    <tr>\n",
       "      <th>3</th>\n",
       "      <td>R.J. Hunter</td>\n",
       "      <td>Boston Celtics</td>\n",
       "      <td>28</td>\n",
       "      <td>SG</td>\n",
       "      <td>22</td>\n",
       "      <td>185</td>\n",
       "      <td>Georgia State</td>\n",
       "      <td>1148640.0</td>\n",
       "      <td>165</td>\n",
       "    </tr>\n",
       "    <tr>\n",
       "      <th>4</th>\n",
       "      <td>Jonas Jerebko</td>\n",
       "      <td>Boston Celtics</td>\n",
       "      <td>8</td>\n",
       "      <td>PF</td>\n",
       "      <td>29</td>\n",
       "      <td>231</td>\n",
       "      <td>NaN</td>\n",
       "      <td>5000000.0</td>\n",
       "      <td>170</td>\n",
       "    </tr>\n",
       "    <tr>\n",
       "      <th>...</th>\n",
       "      <td>...</td>\n",
       "      <td>...</td>\n",
       "      <td>...</td>\n",
       "      <td>...</td>\n",
       "      <td>...</td>\n",
       "      <td>...</td>\n",
       "      <td>...</td>\n",
       "      <td>...</td>\n",
       "      <td>...</td>\n",
       "    </tr>\n",
       "    <tr>\n",
       "      <th>453</th>\n",
       "      <td>Shelvin Mack</td>\n",
       "      <td>Utah Jazz</td>\n",
       "      <td>8</td>\n",
       "      <td>PG</td>\n",
       "      <td>26</td>\n",
       "      <td>203</td>\n",
       "      <td>Butler</td>\n",
       "      <td>2433333.0</td>\n",
       "      <td>163</td>\n",
       "    </tr>\n",
       "    <tr>\n",
       "      <th>454</th>\n",
       "      <td>Raul Neto</td>\n",
       "      <td>Utah Jazz</td>\n",
       "      <td>25</td>\n",
       "      <td>PG</td>\n",
       "      <td>24</td>\n",
       "      <td>179</td>\n",
       "      <td>NaN</td>\n",
       "      <td>900000.0</td>\n",
       "      <td>156</td>\n",
       "    </tr>\n",
       "    <tr>\n",
       "      <th>455</th>\n",
       "      <td>Tibor Pleiss</td>\n",
       "      <td>Utah Jazz</td>\n",
       "      <td>21</td>\n",
       "      <td>C</td>\n",
       "      <td>26</td>\n",
       "      <td>256</td>\n",
       "      <td>NaN</td>\n",
       "      <td>2900000.0</td>\n",
       "      <td>154</td>\n",
       "    </tr>\n",
       "    <tr>\n",
       "      <th>456</th>\n",
       "      <td>Jeff Withey</td>\n",
       "      <td>Utah Jazz</td>\n",
       "      <td>24</td>\n",
       "      <td>C</td>\n",
       "      <td>26</td>\n",
       "      <td>231</td>\n",
       "      <td>Kansas</td>\n",
       "      <td>947276.0</td>\n",
       "      <td>173</td>\n",
       "    </tr>\n",
       "    <tr>\n",
       "      <th>457</th>\n",
       "      <td>Priyanka</td>\n",
       "      <td>Utah Jazz</td>\n",
       "      <td>34</td>\n",
       "      <td>C</td>\n",
       "      <td>25</td>\n",
       "      <td>231</td>\n",
       "      <td>Kansas</td>\n",
       "      <td>947276.0</td>\n",
       "      <td>151</td>\n",
       "    </tr>\n",
       "  </tbody>\n",
       "</table>\n",
       "<p>458 rows × 9 columns</p>\n",
       "</div>"
      ],
      "text/plain": [
       "              Name            Team  Number Position  Age  Weight  \\\n",
       "0    Avery Bradley  Boston Celtics       0       PG   25     180   \n",
       "1      Jae Crowder  Boston Celtics      99       SF   25     235   \n",
       "2     John Holland  Boston Celtics      30       SG   27     205   \n",
       "3      R.J. Hunter  Boston Celtics      28       SG   22     185   \n",
       "4    Jonas Jerebko  Boston Celtics       8       PF   29     231   \n",
       "..             ...             ...     ...      ...  ...     ...   \n",
       "453   Shelvin Mack       Utah Jazz       8       PG   26     203   \n",
       "454      Raul Neto       Utah Jazz      25       PG   24     179   \n",
       "455   Tibor Pleiss       Utah Jazz      21        C   26     256   \n",
       "456    Jeff Withey       Utah Jazz      24        C   26     231   \n",
       "457       Priyanka       Utah Jazz      34        C   25     231   \n",
       "\n",
       "               College     Salary  Height(in cm)  \n",
       "0                Texas  7730337.0            161  \n",
       "1            Marquette  6796117.0            154  \n",
       "2    Boston University        NaN            174  \n",
       "3        Georgia State  1148640.0            165  \n",
       "4                  NaN  5000000.0            170  \n",
       "..                 ...        ...            ...  \n",
       "453             Butler  2433333.0            163  \n",
       "454                NaN   900000.0            156  \n",
       "455                NaN  2900000.0            154  \n",
       "456             Kansas   947276.0            173  \n",
       "457             Kansas   947276.0            151  \n",
       "\n",
       "[458 rows x 9 columns]"
      ]
     },
     "execution_count": 24,
     "metadata": {},
     "output_type": "execute_result"
    }
   ],
   "source": [
    "edf['Height(in cm)'] = np.random.randint(150, 181, size=len(edf))\n",
    "edf"
   ]
  },
  {
   "cell_type": "markdown",
   "id": "a7e9e8f2-3d92-41c9-a1d3-8f810fdbc308",
   "metadata": {},
   "source": [
    "### Step 4. Solving the questions"
   ]
  },
  {
   "cell_type": "markdown",
   "id": "516b292c-ab82-426f-9760-274ee8f22211",
   "metadata": {},
   "source": [
    "##### Q1. How many are there in each team and the percentage splitting with respect to the total employees"
   ]
  },
  {
   "cell_type": "code",
   "execution_count": 13,
   "id": "c97a59d3-29f8-4332-9710-1b9d6a36fe90",
   "metadata": {},
   "outputs": [
    {
     "data": {
      "text/plain": [
       "458"
      ]
     },
     "execution_count": 13,
     "metadata": {},
     "output_type": "execute_result"
    }
   ],
   "source": [
    "#Finding the number of Totalemployees\n",
    "total_members = len(edf)\n",
    "total_members"
   ]
  },
  {
   "cell_type": "code",
   "execution_count": 14,
   "id": "439c3988-93c1-4f9a-8c28-42d052bcc15d",
   "metadata": {},
   "outputs": [
    {
     "data": {
      "text/plain": [
       "Team\n",
       "New Orleans Pelicans      19\n",
       "Memphis Grizzlies         18\n",
       "Utah Jazz                 16\n",
       "New York Knicks           16\n",
       "Milwaukee Bucks           16\n",
       "Brooklyn Nets             15\n",
       "Portland Trail Blazers    15\n",
       "Oklahoma City Thunder     15\n",
       "Denver Nuggets            15\n",
       "Washington Wizards        15\n",
       "Miami Heat                15\n",
       "Charlotte Hornets         15\n",
       "Atlanta Hawks             15\n",
       "San Antonio Spurs         15\n",
       "Houston Rockets           15\n",
       "Boston Celtics            15\n",
       "Indiana Pacers            15\n",
       "Detroit Pistons           15\n",
       "Cleveland Cavaliers       15\n",
       "Chicago Bulls             15\n",
       "Sacramento Kings          15\n",
       "Phoenix Suns              15\n",
       "Los Angeles Lakers        15\n",
       "Los Angeles Clippers      15\n",
       "Golden State Warriors     15\n",
       "Toronto Raptors           15\n",
       "Philadelphia 76ers        15\n",
       "Dallas Mavericks          15\n",
       "Orlando Magic             14\n",
       "Minnesota Timberwolves    14\n",
       "Name: count, dtype: int64"
      ]
     },
     "execution_count": 14,
     "metadata": {},
     "output_type": "execute_result"
    }
   ],
   "source": [
    "# Finding Number of members in each team\n",
    "team_members = edf['Team'].value_counts()\n",
    "team_members"
   ]
  },
  {
   "cell_type": "code",
   "execution_count": 15,
   "id": "5333ffbc-39c8-4a04-9b79-b011b7ba7666",
   "metadata": {},
   "outputs": [
    {
     "data": {
      "text/plain": [
       "Team\n",
       "New Orleans Pelicans      4.148472\n",
       "Memphis Grizzlies         3.930131\n",
       "Utah Jazz                 3.493450\n",
       "New York Knicks           3.493450\n",
       "Milwaukee Bucks           3.493450\n",
       "Brooklyn Nets             3.275109\n",
       "Portland Trail Blazers    3.275109\n",
       "Oklahoma City Thunder     3.275109\n",
       "Denver Nuggets            3.275109\n",
       "Washington Wizards        3.275109\n",
       "Miami Heat                3.275109\n",
       "Charlotte Hornets         3.275109\n",
       "Atlanta Hawks             3.275109\n",
       "San Antonio Spurs         3.275109\n",
       "Houston Rockets           3.275109\n",
       "Boston Celtics            3.275109\n",
       "Indiana Pacers            3.275109\n",
       "Detroit Pistons           3.275109\n",
       "Cleveland Cavaliers       3.275109\n",
       "Chicago Bulls             3.275109\n",
       "Sacramento Kings          3.275109\n",
       "Phoenix Suns              3.275109\n",
       "Los Angeles Lakers        3.275109\n",
       "Los Angeles Clippers      3.275109\n",
       "Golden State Warriors     3.275109\n",
       "Toronto Raptors           3.275109\n",
       "Philadelphia 76ers        3.275109\n",
       "Dallas Mavericks          3.275109\n",
       "Orlando Magic             3.056769\n",
       "Minnesota Timberwolves    3.056769\n",
       "Name: count, dtype: float64"
      ]
     },
     "execution_count": 15,
     "metadata": {},
     "output_type": "execute_result"
    }
   ],
   "source": [
    "# Finding the percentage splitting\n",
    "percentage = (team_members/total_members)*100\n",
    "percentage"
   ]
  },
  {
   "cell_type": "code",
   "execution_count": 19,
   "id": "cd7ed003-a9de-49ee-aa92-12edc798d3cf",
   "metadata": {},
   "outputs": [
    {
     "data": {
      "image/png": "[encoded data removed]",
      "text/plain": [
       "<Figure size 640x480 with 1 Axes>"
      ]
     },
     "metadata": {},
     "output_type": "display_data"
    }
   ],
   "source": [
    "plt.bar(percentage.index,percentage.values,color='blue')\n",
    "plt.xlabel('Team')\n",
    "plt.ylabel('percentage of employees')\n",
    "plt.title('Percentage of Employees in Each Team')\n",
    "plt.xticks(rotation = 90)\n",
    "plt.show()"
   ]
  },
  {
   "cell_type": "markdown",
   "id": "77f7de78-b817-4990-8b5d-4a212364e673",
   "metadata": {},
   "source": [
    "##### Q2. Seggregate the employees with respect to the position"
   ]
  },
  {
   "cell_type": "code",
   "execution_count": 25,
   "id": "68e73bb6-5068-45b4-aabc-0aafd2728638",
   "metadata": {},
   "outputs": [
    {
     "data": {
      "text/plain": [
       "Position  Name             Team                   Number  Age  Weight  College           Salary      Height(in cm)\n",
       "C         Al Horford       Atlanta Hawks          15      30   245     Florida           12000000.0  167              1\n",
       "          Alan Williams    Phoenix Suns           15      23   260     UC Santa Barbara  83397.0     157              1\n",
       "          Alex Len         Phoenix Suns           21      22   260     Maryland          3807120.0   175              1\n",
       "          Andre Drummond   Detroit Pistons        0       22   279     Connecticut       3272091.0   159              1\n",
       "          Andrew Bogut     Golden State Warriors  12      31   260     Utah              13800000.0  168              1\n",
       "                                                                                                                     ..\n",
       "SG        Tyreke Evans     New Orleans Pelicans   1       26   220     Memphis           10734586.0  157              1\n",
       "          Victor Oladipo   Orlando Magic          5       24   210     Indiana           5192520.0   158              1\n",
       "          Vince Carter     Memphis Grizzlies      15      39   220     North Carolina    4088019.0   165              1\n",
       "          Wayne Ellington  Brooklyn Nets          21      28   200     North Carolina    1500000.0   161              1\n",
       "          Wesley Matthews  Dallas Mavericks       23      29   220     Marquette         16407500.0  169              1\n",
       "Name: count, Length: 365, dtype: int64"
      ]
     },
     "execution_count": 25,
     "metadata": {},
     "output_type": "execute_result"
    }
   ],
   "source": [
    "# Using groupby to sort the employees with respect to position\n",
    "position = edf.groupby(['Position']).value_counts()\n",
    "position"
   ]
  },
  {
   "cell_type": "code",
   "execution_count": 29,
   "id": "6dbd9b2d-d3c1-4e10-a762-acaeb3f28954",
   "metadata": {},
   "outputs": [
    {
     "data": {
      "text/plain": [
       "Position\n",
       "C      79\n",
       "PF    100\n",
       "PG     92\n",
       "SF     85\n",
       "SG    102\n",
       "dtype: int64"
      ]
     },
     "execution_count": 29,
     "metadata": {},
     "output_type": "execute_result"
    }
   ],
   "source": [
    "seggregation=edf.groupby('Position').size()\n",
    "seggregation\n"
   ]
  },
  {
   "cell_type": "code",
   "execution_count": 32,
   "id": "c63b39c1-710b-4809-ab13-37882662433b",
   "metadata": {},
   "outputs": [
    {
     "data": {
      "image/png": "[encoded data removed]",
      "text/plain": [
       "<Figure size 640x480 with 1 Axes>"
      ]
     },
     "metadata": {},
     "output_type": "display_data"
    }
   ],
   "source": [
    "plt.bar(seggregation.index,seggregation.values,color='green')\n",
    "plt.xlabel('Position')\n",
    "plt.ylabel('Number of employees')\n",
    "plt.title('Number Employees in Each Position')\n",
    "plt.show()"
   ]
  },
  {
   "cell_type": "markdown",
   "id": "45e803fe-f05a-4f7f-acf0-6c16c9cca501",
   "metadata": {},
   "source": [
    "##### Q3. Find from which age group most of the employees belongs to"
   ]
  },
  {
   "cell_type": "code",
   "execution_count": 7,
   "id": "a689af22-660d-45a6-8a4c-11d86679cf82",
   "metadata": {},
   "outputs": [
    {
     "data": {
      "text/plain": [
       "Age\n",
       "20-29    346\n",
       "30-39     91\n",
       "40-49      0\n",
       "50+        0\n",
       "Name: count, dtype: int64"
      ]
     },
     "execution_count": 7,
     "metadata": {},
     "output_type": "execute_result"
    }
   ],
   "source": [
    "# As asked to find the age group we need to group the ages\n",
    "bins = [20, 30, 40, 50, 60]  \n",
    "labels = ['20-29', '30-39', '40-49', '50+']\n",
    "age_groups= pd.cut(edf['Age'], bins=bins, labels=labels)\n",
    "count = age_groups.value_counts()\n",
    "count"
   ]
  },
  {
   "cell_type": "code",
   "execution_count": 11,
   "id": "f04dbab4-cf9e-48ec-9397-e7c96441908b",
   "metadata": {},
   "outputs": [
    {
     "name": "stdout",
     "output_type": "stream",
     "text": [
      "Most of the employees belongs to the age group 20-29 Number of employees belong to age group is 346\n"
     ]
    }
   ],
   "source": [
    "age_group = count.idxmax()\n",
    "number=count.max()\n",
    "print(\"Most of the employees belongs to the age group\",age_group,\"Number of employees belong to age group is\",number)"
   ]
  },
  {
   "cell_type": "code",
   "execution_count": 12,
   "id": "a697004d-5424-4a6b-ac2f-693b07e50fc1",
   "metadata": {},
   "outputs": [
    {
     "data": {
      "image/png": "[encoded data removed]",
      "text/plain": [
       "<Figure size 640x480 with 1 Axes>"
      ]
     },
     "metadata": {},
     "output_type": "display_data"
    }
   ],
   "source": [
    "plt.bar(count.index,count.values,color='red')\n",
    "plt.xlabel('Age group')\n",
    "plt.ylabel('Number of employees')\n",
    "plt.title('Age group distribution of employees')\n",
    "plt.show()"
   ]
  },
  {
   "cell_type": "markdown",
   "id": "43b52061-91fc-49a9-8d9f-5e5cd68fab27",
   "metadata": {},
   "source": [
    "##### Q4. Find out under which team and position , spending in terms of salary is high"
   ]
  },
  {
   "cell_type": "code",
   "execution_count": 40,
   "id": "46c1be81-58b5-4a1b-8d80-a0cbed8b46d7",
   "metadata": {},
   "outputs": [
    {
     "name": "stdout",
     "output_type": "stream",
     "text": [
      "The team providing Highest Salary is Cleveland Cavaliers\n"
     ]
    }
   ],
   "source": [
    "# Highest salary and team\n",
    "salary = edf.groupby('Team')['Salary'].sum()\n",
    "team=salary.idxmax()\n",
    "print(\"The team providing Highest Salary is\",team)\n"
   ]
  },
  {
   "cell_type": "code",
   "execution_count": 48,
   "id": "1fb9d8c6-7f73-4d3c-809c-deb8ff998d76",
   "metadata": {},
   "outputs": [
    {
     "data": {
      "image/png": "[encoded data removed]",
      "text/plain": [
       "<Figure size 640x480 with 1 Axes>"
      ]
     },
     "metadata": {},
     "output_type": "display_data"
    }
   ],
   "source": [
    "plt.bar(salary.index,salary.values,color='orange')\n",
    "plt.xlabel('Team')\n",
    "plt.ylabel('Salary')\n",
    "plt.xticks(rotation=90)\n",
    "plt.show()"
   ]
  },
  {
   "cell_type": "code",
   "execution_count": 51,
   "id": "58b0b0d9-369a-4268-8933-6e899f098446",
   "metadata": {},
   "outputs": [
    {
     "name": "stdout",
     "output_type": "stream",
     "text": [
      "The Position providing Highest Salary is C\n"
     ]
    },
    {
     "data": {
      "text/plain": [
       "Position\n",
       "C     466377332.0\n",
       "PF    442560850.0\n",
       "PG    446848971.0\n",
       "SF    408020976.0\n",
       "SG    396976258.0\n",
       "Name: Salary, dtype: float64"
      ]
     },
     "execution_count": 51,
     "metadata": {},
     "output_type": "execute_result"
    }
   ],
   "source": [
    "# Highest salary and position\n",
    "position = edf.groupby('Position')['Salary'].sum().idxmax()\n",
    "print(\"The Position providing Highest Salary is\",position)\n",
    "max_salary=edf.groupby('Position')['Salary'].sum()\n",
    "max_salary"
   ]
  },
  {
   "cell_type": "code",
   "execution_count": 53,
   "id": "566f3f03-2fb9-46e4-9c5d-c9dafe1d8703",
   "metadata": {},
   "outputs": [
    {
     "data": {
      "image/png": "[encoded data removed]",
      "text/plain": [
       "<Figure size 640x480 with 1 Axes>"
      ]
     },
     "metadata": {},
     "output_type": "display_data"
    }
   ],
   "source": [
    "plt.bar(max_salary.index,max_salary.values,color='purple')\n",
    "plt.xlabel('Position')\n",
    "plt.ylabel('Salary')\n",
    "plt.title(\"Salary corresponding to Position\")\n",
    "plt.show()"
   ]
  },
  {
   "cell_type": "markdown",
   "id": "a8504d9d-adca-4474-a69a-da55154351ea",
   "metadata": {},
   "source": [
    "##### Q5. Find if there is any corelation between age and salary,represent it visually"
   ]
  },
  {
   "cell_type": "code",
   "execution_count": 57,
   "id": "8bc45666-5906-4ae4-bd90-ac70253656b3",
   "metadata": {},
   "outputs": [
    {
     "name": "stdout",
     "output_type": "stream",
     "text": [
      "corelation between age and salary is 0.2140094122657097\n"
     ]
    }
   ],
   "source": [
    "correlation = edf['Age'].corr(edf['Salary'])\n",
    "print(\"corelation between age and salary is\",correlation)"
   ]
  },
  {
   "cell_type": "code",
   "execution_count": 62,
   "id": "ecd2816e-37dd-4933-b7d1-39c332286726",
   "metadata": {},
   "outputs": [
    {
     "data": {
      "image/png": "[encoded data removed]",
      "text/plain": [
       "<Figure size 640x480 with 1 Axes>"
      ]
     },
     "metadata": {},
     "output_type": "display_data"
    }
   ],
   "source": [
    "sns.scatterplot(x='Age',y='Salary',data=edf)\n",
    "plt.xlabel('Age')\n",
    "plt.ylabel('Salary')\n",
    "plt.title('Corelation between Age and Salary')\n",
    "plt.grid(True)\n",
    "plt.show()"
   ]
  },
  {
   "cell_type": "code",
   "execution_count": null,
   "id": "be832aba-b9bb-4f7a-b3d4-796f652d5619",
   "metadata": {},
   "outputs": [],
   "source": []
  }
 ],
 "metadata": {
  "kernelspec": {
   "display_name": "Python 3 (ipykernel)",
   "language": "python",
   "name": "python3"
  },
  "language_info": {
   "codemirror_mode": {
    "name": "ipython",
    "version": 3
   },
   "file_extension": ".py",
   "mimetype": "text/x-python",
   "name": "python",
   "nbconvert_exporter": "python",
   "pygments_lexer": "ipython3",
   "version": "3.12.1"
  }
 },
 "nbformat": 4,
 "nbformat_minor": 5
}
